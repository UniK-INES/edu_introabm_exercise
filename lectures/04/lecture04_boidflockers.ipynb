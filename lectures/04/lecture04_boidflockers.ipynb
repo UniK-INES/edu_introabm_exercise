{
 "cells": [
  {
   "cell_type": "markdown",
   "id": "ae3a97f2-85a8-4587-ae3d-fcb964e2c411",
   "metadata": {},
   "source": [
    "# Boid Flocking Model\n",
    "\n",
    "* to demonstrate torus (toroidal space)"
   ]
  },
  {
   "cell_type": "code",
   "execution_count": 3,
   "id": "eea73cc9-28b3-4ad1-ac2e-5344ff42a25e",
   "metadata": {},
   "outputs": [
    {
     "data": {
      "application/vnd.jupyter.widget-view+json": {
       "model_id": "52a14049eae3431ab3c78afdd39c0987",
       "version_major": 2,
       "version_minor": 0
      },
      "text/html": [
       "Cannot show widget. You probably want to rerun the code cell above (<i>Click in the code cell, and press Shift+Enter <kbd>⇧</kbd>+<kbd>↩</kbd></i>)."
      ],
      "text/plain": [
       "Cannot show ipywidgets in text"
      ]
     },
     "metadata": {},
     "output_type": "display_data"
    }
   ],
   "source": [
    "from boid_flockers.app import page\n",
    "page"
   ]
  },
  {
   "cell_type": "code",
   "execution_count": 4,
   "id": "f384b216-5cdb-4c07-9d38-aa5885a4f5b9",
   "metadata": {},
   "outputs": [
    {
     "data": {
      "text/plain": [
       "'3.2.1.1'"
      ]
     },
     "execution_count": 4,
     "metadata": {},
     "output_type": "execute_result"
    }
   ],
   "source": [
    "from importlib import metadata\n",
    "metadata.version(\"mesa-ines\")"
   ]
  },
  {
   "cell_type": "code",
   "execution_count": null,
   "id": "a68c5685-d674-4c99-b509-fcf4f1cc54aa",
   "metadata": {},
   "outputs": [],
   "source": []
  }
 ],
 "metadata": {
  "kernelspec": {
   "display_name": "Python 3 (ipykernel)",
   "language": "python",
   "name": "python3"
  },
  "language_info": {
   "codemirror_mode": {
    "name": "ipython",
    "version": 3
   },
   "file_extension": ".py",
   "mimetype": "text/x-python",
   "name": "python",
   "nbconvert_exporter": "python",
   "pygments_lexer": "ipython3",
   "version": "3.12.3"
  }
 },
 "nbformat": 4,
 "nbformat_minor": 5
}
