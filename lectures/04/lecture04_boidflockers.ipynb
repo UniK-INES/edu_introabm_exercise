{
 "cells": [
  {
   "cell_type": "markdown",
   "id": "ae3a97f2-85a8-4587-ae3d-fcb964e2c411",
   "metadata": {},
   "source": [
    "# Boid Flocking Model\n",
    "\n",
    "* to demonstrate torus (toroidal space)"
   ]
  },
  {
   "cell_type": "code",
   "execution_count": null,
   "id": "eea73cc9-28b3-4ad1-ac2e-5344ff42a25e",
   "metadata": {},
   "outputs": [],
   "source": [
    "from boid_flockers.app import page\n",
    "page"
   ]
  }
 ],
 "metadata": {
  "kernelspec": {
   "display_name": "Python 3 (ipykernel)",
   "language": "python",
   "name": "python3"
  },
  "language_info": {
   "codemirror_mode": {
    "name": "ipython",
    "version": 3
   },
   "file_extension": ".py",
   "mimetype": "text/x-python",
   "name": "python",
   "nbconvert_exporter": "python",
   "pygments_lexer": "ipython3",
   "version": "3.12.3"
  }
 },
 "nbformat": 4,
 "nbformat_minor": 5
}
