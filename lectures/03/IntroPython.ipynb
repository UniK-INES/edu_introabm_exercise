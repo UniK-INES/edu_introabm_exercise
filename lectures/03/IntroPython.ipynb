{
 "cells": [
  {
   "cell_type": "markdown",
   "id": "eced38bf-c50b-4c24-9291-013d42226d44",
   "metadata": {},
   "source": [
    "# Introduction to python"
   ]
  },
  {
   "cell_type": "markdown",
   "id": "d8b59a78-5f70-452b-bd99-f7a4d5f3cda5",
   "metadata": {},
   "source": [
    "## Resources\n",
    "\n",
    "**Cheat-Sheets**\n",
    "\n",
    "* see folder `docs` of cloned repository edu_introabm_exercise\n",
    "\n",
    "**Python Reference**:\n",
    "\n",
    "* https://docs.python.org/3/reference\n",
    "* Help > Python reference (may depend on used kernel)"
   ]
  },
  {
   "cell_type": "markdown",
   "id": "957b4f73-2170-4247-847c-9da9bb6f384f",
   "metadata": {},
   "source": [
    "## Jupyter\n",
    "\n",
    "* Combine code and description\n",
    "* Text as markdown (see Help > Markdown reference)\n",
    "* Syntax highlighting for python code and execution\n",
    "* Arrange, add, and remove cells\n",
    "* See Help > JupyterLab reference\n",
    "* Contextual help available for python functions\n",
    "* [Cheatsheet](https://www.edureka.co/blog/wp-content/uploads/2018/10/Jupyter_Notebook_CheatSheet_Edureka.pdf) available"
   ]
  },
  {
   "cell_type": "markdown",
   "id": "f5921f5d-8098-4c7d-836a-ee2de10f9c63",
   "metadata": {
    "tags": []
   },
   "source": [
    "## Comments"
   ]
  },
  {
   "cell_type": "code",
   "execution_count": null,
   "id": "cf014030-08d0-4c05-99f3-4926617531fc",
   "metadata": {
    "tags": []
   },
   "outputs": [],
   "source": [
    "# A comment starts with a '#'\n",
    "\n",
    "'''\n",
    "This is a long\n",
    "comment across multiple lines.\n",
    "'''\n",
    "\n",
    "\"\"\"\n",
    "This is also considered a multiline\n",
    "comment.\n",
    "\"\"\"\n",
    "\n",
    "x = 1\n",
    "print(\"Hallo\")"
   ]
  },
  {
   "cell_type": "markdown",
   "id": "219e2861-6411-4930-a772-dde8e3895333",
   "metadata": {},
   "source": [
    "## Variables"
   ]
  },
  {
   "cell_type": "code",
   "execution_count": null,
   "id": "e88bf02d-3507-4dc7-aa23-f0c1f2b56900",
   "metadata": {},
   "outputs": [],
   "source": [
    "# naming rules\n",
    "agent_age = 0\n",
    "AgentAge = 0\n",
    "\n",
    "# constants\n",
    "ROOM_SIZE = 12"
   ]
  },
  {
   "cell_type": "markdown",
   "id": "76b0f7a4-64de-499e-9118-d325b2fbe2ee",
   "metadata": {},
   "source": [
    "## Data types"
   ]
  },
  {
   "cell_type": "code",
   "execution_count": null,
   "id": "fdd95cf8-520c-4522-8be5-ad7a7018acea",
   "metadata": {},
   "outputs": [],
   "source": [
    "# boolean\n",
    "state_healthy = True\n",
    "\n",
    "# int\n",
    "age = 28\n",
    "\n",
    "#float\n",
    "height= 1.78\n",
    "\n",
    "# list\n",
    "neighbours = [\"agent7\", \"agent23\", \"agent42\"]\n",
    "\n",
    "# string\n",
    "name = \"Agent1\"\n",
    "\n",
    "#dictionary\n",
    "agent_colours = {\"hair\":\"grey\", \"eyes\": \"blue\", \"shoes\":\"black\"}\n",
    "agent_colours[\"hair\"]"
   ]
  },
  {
   "cell_type": "code",
   "execution_count": null,
   "id": "0c7e25e3-d729-4bcd-a647-de4353ad6da7",
   "metadata": {},
   "outputs": [],
   "source": [
    "# set\n",
    "setdata = set([\"A\", \"B\", \"A\", \"C\"])\n",
    "print(setdata)"
   ]
  },
  {
   "cell_type": "markdown",
   "id": "adfe6c04-ec78-4317-bea4-7d52c5288771",
   "metadata": {},
   "source": [
    "## Special values"
   ]
  },
  {
   "cell_type": "code",
   "execution_count": null,
   "id": "60ae897c-4b0c-4fc0-8301-3703a5f66853",
   "metadata": {},
   "outputs": [],
   "source": [
    "\n",
    "something = None\n",
    "number = float(\"NaN\") \n"
   ]
  },
  {
   "cell_type": "markdown",
   "id": "bec0314f-da8a-4dc8-80d0-b6e057fae122",
   "metadata": {},
   "source": [
    "## Conversion"
   ]
  },
  {
   "cell_type": "code",
   "execution_count": null,
   "id": "29b83fba-ea32-40ec-a92d-dfdae629c5e6",
   "metadata": {},
   "outputs": [],
   "source": [
    "number = int(\"42\")\n",
    "print(number * 2)\n",
    "print(\"42\" * 2)"
   ]
  },
  {
   "cell_type": "code",
   "execution_count": null,
   "id": "9c986ab4-ed36-4674-9b42-842fb4594828",
   "metadata": {},
   "outputs": [],
   "source": [
    "print(\"Number: \" + number)\n",
    "string = str(number)\n",
    "print(\"Number: \" + string)\n",
    "\n",
    "# meant to throw a TypeError - conversion to str in 1st line to avoid TypeError!"
   ]
  },
  {
   "cell_type": "markdown",
   "id": "20855204-35e9-41c9-90ef-c87e50707033",
   "metadata": {},
   "source": [
    "## Access Arrays"
   ]
  },
  {
   "cell_type": "code",
   "execution_count": null,
   "id": "30e60a67-d483-42d2-8044-c03db7ca91b8",
   "metadata": {},
   "outputs": [],
   "source": [
    "# index starting with 0!\n",
    "course = \"Intro to ABM\"\n",
    "print(course[0])"
   ]
  },
  {
   "cell_type": "code",
   "execution_count": null,
   "id": "eb2297f3-0eec-4dc0-a804-198c51801fed",
   "metadata": {},
   "outputs": [],
   "source": [
    "course[0:5]\n",
    "# range(5) goes from 0 to 4"
   ]
  },
  {
   "cell_type": "code",
   "execution_count": null,
   "id": "bc849631-a565-457d-b6b7-6a046874ba46",
   "metadata": {},
   "outputs": [],
   "source": [
    "course[:]\n",
    "# complete list"
   ]
  },
  {
   "cell_type": "code",
   "execution_count": null,
   "id": "da9e86b3-8ad9-4585-b88d-9829261e5190",
   "metadata": {},
   "outputs": [],
   "source": [
    "course[0:-2]\n",
    "# negative indices count from list tail"
   ]
  },
  {
   "cell_type": "markdown",
   "id": "fa8352c5-67a5-4ee5-bc78-b3551c145f5b",
   "metadata": {},
   "source": [
    "## Control structures"
   ]
  },
  {
   "cell_type": "code",
   "execution_count": null,
   "id": "ceba66bc-38e1-436e-b867-fca50e21c1ff",
   "metadata": {},
   "outputs": [],
   "source": [
    "family = [\"Father\", \"Mother\", \"Daugther\"]\n",
    "neighbours = [\"Miller\", \"Smith\", \"Baker\"]\n",
    "partner = \"Daugther\"\n",
    "\n",
    "# if condition\n",
    "if partner in family:\n",
    "    print(partner.upper())\n",
    "elif partner in neighbours:\n",
    "    print(partner.lower())\n",
    "else:\n",
    "    print(\"Unknown\")"
   ]
  },
  {
   "cell_type": "code",
   "execution_count": null,
   "id": "d8c16a40-4c73-47ec-b929-e6b447cc5c31",
   "metadata": {},
   "outputs": [],
   "source": [
    "# for loop    \n",
    "for partner in neighbours:\n",
    "    print(partner.lower())\n"
   ]
  },
  {
   "cell_type": "code",
   "execution_count": null,
   "id": "8a8c77bb-4eb7-41c2-838b-1317c73f533d",
   "metadata": {},
   "outputs": [],
   "source": [
    "for i in range(5):\n",
    "    print(i)"
   ]
  },
  {
   "cell_type": "code",
   "execution_count": null,
   "id": "332984c3-71ba-4aa6-b088-b6eab12b2baf",
   "metadata": {},
   "outputs": [],
   "source": [
    "# while loop\n",
    "import random\n",
    "\n",
    "budget = 30\n",
    "while budget > 0:\n",
    "    spent = random.randrange(10)\n",
    "    print(\"Inital budget: \" + str(budget) + \" - \" + str(spent) + \" = \" + str(budget - spent))\n",
    "    budget = budget - spent\n",
    "    \n",
    "budget = 50\n",
    "while budget > 0:\n",
    "    spent = random.randrange(10)\n",
    "    print(\"Inital budget: \" + str(budget) + \" - \" + str(spent) + \" = \" + str(budget - spent))\n",
    "    budget -=spent"
   ]
  },
  {
   "cell_type": "markdown",
   "id": "7e8e9bd6-7a81-47a8-b2ce-85f8042208ee",
   "metadata": {},
   "source": [
    "## Indentation is important!"
   ]
  },
  {
   "cell_type": "code",
   "execution_count": null,
   "id": "5a171669-ddc5-41d2-8adc-f79a2dbbe1f5",
   "metadata": {},
   "outputs": [],
   "source": [
    "import random\n",
    "agestring = \"ü70\"\n",
    "age = None\n",
    "\n",
    "# Example A\n",
    "age_level = int(agestring[1:])\n",
    "if age is None:\n",
    "    age = random.randint(0, 10)\n",
    "    if agestring[0] == \"ü\":  # ü70\n",
    "        age = age_level + age\n",
    "    else:\n",
    "        age = age_level - age % 10\n",
    "print(age)"
   ]
  },
  {
   "cell_type": "code",
   "execution_count": null,
   "id": "21ee80dc-98bd-4656-9964-54b1a802bae2",
   "metadata": {},
   "outputs": [],
   "source": [
    "# Example B\n",
    "age_level = int(agestring[1:])\n",
    "if age is None:\n",
    "    age = random.randint(0, 10)\n",
    "if agestring[0] == \"ü\":  # ü70\n",
    "    age = age_level + age\n",
    "else:\n",
    "    age = age_level - age % 10\n",
    "    \n",
    "print(age)"
   ]
  },
  {
   "cell_type": "markdown",
   "id": "7a9489fa-dc11-41bc-b31e-f3aac5d79ca0",
   "metadata": {
    "editable": true,
    "slideshow": {
     "slide_type": ""
    },
    "tags": []
   },
   "source": [
    "* If `age` is not `None`, there is no assignment of a number < 10, but it is still added to `age_level`\n",
    "* Probably, `% 10` was added because of the bug (negative ages)..."
   ]
  },
  {
   "cell_type": "markdown",
   "id": "64388b56-8276-4429-92c9-d4e0c92873ee",
   "metadata": {},
   "source": [
    "## Functions"
   ]
  },
  {
   "cell_type": "code",
   "execution_count": null,
   "id": "fb9128e8-f28c-4843-8fda-e8be22463fa2",
   "metadata": {},
   "outputs": [],
   "source": [
    "def plus(a, b):\n",
    "    return a + b"
   ]
  },
  {
   "cell_type": "code",
   "execution_count": null,
   "id": "0d7c0b6b-cb45-4d22-9d53-e61d4721ed22",
   "metadata": {
    "tags": []
   },
   "outputs": [],
   "source": [
    "plus(5,5)"
   ]
  },
  {
   "cell_type": "code",
   "execution_count": null,
   "id": "f21b4c7f-6d29-4776-8084-e841281526be",
   "metadata": {},
   "outputs": [],
   "source": [
    "def spend_budget(budget):\n",
    "    counter = 0\n",
    "    while budget > 0:\n",
    "        spent = random.randrange(10)\n",
    "        print(\"Inital budget: \" + str(budget) + \" - \" + str(spent) + \" = \" + str(budget - spent))\n",
    "        budget -=spent\n",
    "        counter +=1\n",
    "    print(f\"{counter} purchases were possible\\n\")"
   ]
  },
  {
   "cell_type": "code",
   "execution_count": null,
   "id": "b7162f7e-9c67-487c-85d3-c0e4acbeec0b",
   "metadata": {},
   "outputs": [],
   "source": [
    "spend_budget(30)\n",
    "spend_budget(50)"
   ]
  },
  {
   "cell_type": "code",
   "execution_count": null,
   "id": "f4e23971-8919-41fc-9881-e44058f01855",
   "metadata": {},
   "outputs": [],
   "source": [
    "# recursion\n",
    "def spend(budget):\n",
    "    spent = random.randrange(10)\n",
    "    budget = budget - spent\n",
    "    if budget - spent > 0:\n",
    "        print(f\"Inital budget: {budget} - {spent} = {budget - spent}\")\n",
    "        spend(budget - spent)\n",
    "    else:\n",
    "        print(\"All budget spent!\\n\")"
   ]
  },
  {
   "cell_type": "code",
   "execution_count": null,
   "id": "e2479582-fe6b-4a84-b72d-3fcbbef5d0fd",
   "metadata": {},
   "outputs": [],
   "source": [
    "spend(30)\n",
    "spend(50)"
   ]
  },
  {
   "cell_type": "markdown",
   "id": "7468f8c8-de5b-4e1b-9ed3-42923d568fbc",
   "metadata": {},
   "source": [
    "### Parameter passing"
   ]
  },
  {
   "cell_type": "code",
   "execution_count": null,
   "id": "9f74dcd3-6d60-4a4b-b9dc-69f62c404987",
   "metadata": {},
   "outputs": [],
   "source": [
    "def do_something_else(a=1, b=2, c=3):\n",
    "    return (a, b, c)"
   ]
  },
  {
   "cell_type": "code",
   "execution_count": null,
   "id": "23096e15-f52b-4dd9-8e82-ad9d4a2c0ec0",
   "metadata": {},
   "outputs": [],
   "source": [
    "do_something_else(3,3,3)"
   ]
  },
  {
   "cell_type": "code",
   "execution_count": null,
   "id": "1976d914-6e94-43c4-b1d1-9be92f17553f",
   "metadata": {},
   "outputs": [],
   "source": [
    "do_something_else()"
   ]
  },
  {
   "cell_type": "code",
   "execution_count": null,
   "id": "d085780f-6fa5-4c96-b077-2e39378372b8",
   "metadata": {},
   "outputs": [],
   "source": [
    "do_something_else(2,2)"
   ]
  },
  {
   "cell_type": "code",
   "execution_count": null,
   "id": "272c7652-a4c8-407b-b59e-54ce22db55ce",
   "metadata": {},
   "outputs": [],
   "source": [
    "res = do_something_else(3,c=5)\n",
    "print(res)"
   ]
  },
  {
   "cell_type": "markdown",
   "id": "f95ef393-5574-4115-abbe-2bf7b22b0904",
   "metadata": {},
   "source": [
    "## Scope"
   ]
  },
  {
   "cell_type": "code",
   "execution_count": null,
   "id": "aca34890-6b03-4ed2-9516-1a19827dca70",
   "metadata": {},
   "outputs": [],
   "source": [
    "# Global variables:\n",
    "globalVar = 42\n",
    "def do_something_different(a=1, b=2, c=3):\n",
    "    global globalVar\n",
    "    globalVar = a\n",
    "    print(globalVar)"
   ]
  },
  {
   "cell_type": "code",
   "execution_count": null,
   "id": "ac8d0d2d-9df8-4f83-96d6-aaa6e65a4804",
   "metadata": {},
   "outputs": [],
   "source": [
    "print(globalVar)"
   ]
  },
  {
   "cell_type": "code",
   "execution_count": null,
   "id": "8bfd9608-e81d-4b24-8c36-02b588e5cdf8",
   "metadata": {},
   "outputs": [],
   "source": [
    "do_something_different(3,3,3)"
   ]
  },
  {
   "cell_type": "code",
   "execution_count": null,
   "id": "06174832-459a-478b-bfd3-b64629c69761",
   "metadata": {},
   "outputs": [],
   "source": [
    "print(globalVar)"
   ]
  },
  {
   "cell_type": "code",
   "execution_count": null,
   "id": "de774bc3-faa3-4803-a95f-09d157f9d845",
   "metadata": {},
   "outputs": [],
   "source": [
    "y = 0\n",
    "for x in range(10):\n",
    "    y = x\n",
    "\n",
    "print(y)"
   ]
  },
  {
   "cell_type": "code",
   "execution_count": null,
   "id": "167cd270-ca15-4d1b-88ac-3022fb069107",
   "metadata": {},
   "outputs": [],
   "source": [
    "x= 13\n",
    "[x for x in range(20, 30)]\n",
    "print(x)"
   ]
  },
  {
   "cell_type": "markdown",
   "id": "1a054d90-0e74-4d0a-b6bb-5277cbdde96e",
   "metadata": {},
   "source": [
    "Python follows the LEGB Rule (order of consideration):\n",
    "\n",
    "* L, Local: Names assigned in any way within a function (def or lambda)), and not declared global in that function.\n",
    "* E, Enclosing function locals: Name in the local scope of any and all enclosing functions (def or lambda), from inner to outer.\n",
    "* G, Global (module): Names assigned at the top-level of a module file, or declared global in a def within the file.\n",
    "* B, Built-in (Python): Names preassigned in the built-in names module : open, range, SyntaxError,..."
   ]
  },
  {
   "cell_type": "code",
   "execution_count": null,
   "id": "bdb2857d-6d81-4966-bebf-d6543a559ecd",
   "metadata": {},
   "outputs": [],
   "source": [
    "# Locals and enclosing function locals:\n",
    "x = 3\n",
    "def foo():\n",
    "    x=4\n",
    "    def bar():\n",
    "        print(x)  # Accesses x from foo's scope\n",
    "    bar()  # Prints 4\n",
    "    x=5\n",
    "    bar()  # Prints 5"
   ]
  },
  {
   "cell_type": "code",
   "execution_count": null,
   "id": "74c18216-b624-49b0-9e71-0ec6842f0a69",
   "metadata": {},
   "outputs": [],
   "source": [
    "foo()"
   ]
  },
  {
   "cell_type": "code",
   "execution_count": null,
   "id": "5ae2e4d5-2fc8-4356-81f6-cbe381b3a994",
   "metadata": {},
   "outputs": [],
   "source": [
    "x = 3\n",
    "def foo():\n",
    "    x=4\n",
    "    def bar():\n",
    "        x=0\n",
    "        print(x)  # Accesses x from foo's scope\n",
    "    bar()  # Prints 0\n",
    "    x=5\n",
    "    bar()  # Prints 0\n",
    "    "
   ]
  },
  {
   "cell_type": "code",
   "execution_count": null,
   "id": "fd3c73b4-12a7-479b-b6c4-908398f7d9f6",
   "metadata": {},
   "outputs": [],
   "source": [
    "foo()"
   ]
  },
  {
   "cell_type": "markdown",
   "id": "c2edd57f-5ee7-44bf-b2c2-3cc6960f9c1a",
   "metadata": {},
   "source": [
    "## Modules and Packages"
   ]
  },
  {
   "cell_type": "markdown",
   "id": "3ac7426a-6e31-449e-9189-5a7e39c3f2ad",
   "metadata": {
    "editable": true,
    "slideshow": {
     "slide_type": ""
    },
    "tags": []
   },
   "source": [
    "More information: https://realpython.com/python-modules-packages/\n",
    "\n",
    "<img src=\"./IntroPython_FunctionToLibraries.png\" alt= “Structure” width=\"500px\">"
   ]
  },
  {
   "cell_type": "markdown",
   "id": "727f12f7-0212-4097-b53c-6fc1baef3db4",
   "metadata": {},
   "source": [
    "## Python module files"
   ]
  },
  {
   "cell_type": "markdown",
   "id": "c2554921-e578-4188-b313-8a3519a0966b",
   "metadata": {},
   "source": [
    " * Header\n",
    " * Import statements\n",
    " * Constants\n",
    " * Global variables\n",
    " * Class\n",
    " * Methods"
   ]
  },
  {
   "cell_type": "markdown",
   "id": "745ef9ea-8a8d-4c37-8ff4-0164953de858",
   "metadata": {},
   "source": [
    "## Valuable thoughts"
   ]
  },
  {
   "cell_type": "code",
   "execution_count": null,
   "id": "4fc85df0-6072-439a-8724-4ff58aa9e56f",
   "metadata": {
    "editable": true,
    "slideshow": {
     "slide_type": ""
    },
    "tags": []
   },
   "outputs": [],
   "source": [
    "import this"
   ]
  },
  {
   "cell_type": "markdown",
   "id": "8539b5b8-89f6-4e6f-ae1a-5bd9b014f857",
   "metadata": {
    "editable": true,
    "slideshow": {
     "slide_type": ""
    },
    "tags": []
   },
   "source": [
    "## Documentation\n",
    "\n",
    "Documenting modules, classes, and functions increases (re)usability and helps to understand the code later on."
   ]
  },
  {
   "cell_type": "code",
   "execution_count": null,
   "id": "99309cb2-fa9f-47e9-bc1d-f057b92442e2",
   "metadata": {},
   "outputs": [],
   "source": [
    "def fancy_function(text: str, number: int):\n",
    "    \"\"\"\n",
    "    Convert text to upper case and append number.\n",
    "\n",
    "    Parameters\n",
    "    ----------\n",
    "    text: str\n",
    "        The text to convert to upper case\n",
    "    number: int\n",
    "        The number to append to the text\n",
    "\n",
    "    Note\n",
    "    ----\n",
    "    This is only to explain docstrings\n",
    "    \"\"\"\n",
    "    return text.upper() + \"_\" + str(number)\n",
    "\n",
    "fancy_function(\"upper\", 42)"
   ]
  },
  {
   "cell_type": "markdown",
   "id": "0686b811-7862-49d1-9360-85619456dda4",
   "metadata": {
    "editable": true,
    "slideshow": {
     "slide_type": ""
    },
    "tags": []
   },
   "source": [
    "## Debugging"
   ]
  },
  {
   "cell_type": "code",
   "execution_count": null,
   "id": "34fe3f7d-9746-41a1-a41b-d6e034fda8d8",
   "metadata": {
    "editable": true,
    "slideshow": {
     "slide_type": ""
    },
    "tags": []
   },
   "outputs": [],
   "source": [
    "def bullshit_plus(a, b):\n",
    "    a = a + 2\n",
    "    b = b - 2\n",
    "    b = abs(b)\n",
    "    result = a + b\n",
    "    return result\n",
    "\n",
    "print(bullshit_plus(3,4))\n",
    "print(bullshit_plus(2,1))"
   ]
  },
  {
   "cell_type": "markdown",
   "id": "289de012-96d0-40bb-a495-e28632f30fbf",
   "metadata": {
    "editable": true,
    "slideshow": {
     "slide_type": ""
    },
    "tags": []
   },
   "source": [
    "* Enable debugger (shows line numbers)\n",
    "* Set breakpoint\n",
    "* Run cell\n",
    "* Inspect variables\n",
    "* move forward\n",
    " \n",
    "More information: https://jupyterlab.readthedocs.io/en/stable/user/debugger.html"
   ]
  },
  {
   "cell_type": "code",
   "execution_count": null,
   "id": "01fcaed6-b4f4-4ff5-9ff4-318c8c7ae18e",
   "metadata": {},
   "outputs": [],
   "source": []
  }
 ],
 "metadata": {
  "kernelspec": {
   "display_name": "Python 3 (ipykernel)",
   "language": "python",
   "name": "python3"
  },
  "language_info": {
   "codemirror_mode": {
    "name": "ipython",
    "version": 3
   },
   "file_extension": ".py",
   "mimetype": "text/x-python",
   "name": "python",
   "nbconvert_exporter": "python",
   "pygments_lexer": "ipython3",
   "version": "3.12.10"
  }
 },
 "nbformat": 4,
 "nbformat_minor": 5
}
