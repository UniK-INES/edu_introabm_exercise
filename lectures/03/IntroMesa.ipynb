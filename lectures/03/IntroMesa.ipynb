{
 "cells": [
  {
   "cell_type": "markdown",
   "id": "30a49417-e3dd-48da-b6bc-f8f3d6b722c4",
   "metadata": {},
   "source": [
    "# Introduction to Mesa"
   ]
  },
  {
   "cell_type": "markdown",
   "id": "c390b453-cbf1-486d-a6bb-18f64d2f562b",
   "metadata": {
    "tags": []
   },
   "source": [
    "* [GitHub](https://github.com/projectmesa)\n",
    "* [API](https://mesa.readthedocs.io/en/latest/apis/api_main.html)\n",
    "* [Overview tutorial](https://mesa.readthedocs.io/latest/overview.html)"
   ]
  },
  {
   "cell_type": "markdown",
   "id": "2783f347-d7fd-49c2-85d0-1c562941c5c5",
   "metadata": {},
   "source": [
    "## Mesa Modules"
   ]
  },
  {
   "cell_type": "markdown",
   "id": "7260d030-35b5-4653-a23a-a129e49d2be6",
   "metadata": {},
   "source": [
    "### Agent"
   ]
  },
  {
   "cell_type": "code",
   "execution_count": null,
   "id": "ac52829e-9902-45b7-903f-cc4f4149cb96",
   "metadata": {},
   "outputs": [],
   "source": [
    "import mesa\n",
    "\n",
    "class MyAgent(mesa.Agent):\n",
    "    def __init__(self, model, age):\n",
    "        super().__init__(model)\n",
    "        self.age = age\n",
    "\n",
    "    def step(self):\n",
    "        self.age += 1\n",
    "        print(f\"Agent {self.unique_id} now is {self.age} years old\")\n",
    "        # Whatever else the agent does when activated"
   ]
  },
  {
   "cell_type": "code",
   "execution_count": null,
   "id": "ed205b31-ea35-4dba-8087-bb11ef04af80",
   "metadata": {
    "jupyter": {
     "source_hidden": true
    }
   },
   "outputs": [],
   "source": [
    "import mesa\n",
    "\n",
    "class MyAgent(mesa.Agent):\n",
    "    def __init__(self, model, age):\n",
    "        super().__init__(model)\n",
    "        self.age = age\n",
    "\n",
    "    def step(self):\n",
    "        self.age += 1\n",
    "        if self.model.debug:\n",
    "            print(f\"Agent {self.unique_id} now is {self.age} years old\")\n",
    "        # Whatever else the agent does when activated\n",
    "\n",
    "    def __str__(self):\n",
    "        return f\"Agent {self.unique_id}\"\n",
    "        \n",
    "    def __repr__(self):\n",
    "        return f\"Agent {self.unique_id} ({self.age} years old)\""
   ]
  },
  {
   "cell_type": "markdown",
   "id": "1346822c-de83-474b-8cfc-ef61b92dec2b",
   "metadata": {},
   "source": [
    "### Model"
   ]
  },
  {
   "cell_type": "code",
   "execution_count": null,
   "id": "97b876fd-b674-46d2-a2ea-f5051b44b03f",
   "metadata": {},
   "outputs": [],
   "source": [
    "class MyModel(mesa.Model):\n",
    "    debug = False\n",
    "    def __init__(self, n_agents):\n",
    "        super().__init__()\n",
    "        self.grid = mesa.space.MultiGrid(10, 10, torus=True)\n",
    "        for _ in range(n_agents):\n",
    "            initial_age = self.random.randint(0, 80)\n",
    "            a = MyAgent(self, initial_age)\n",
    "            coords = (self.random.randrange(0, 10), self.random.randrange(0, 10))\n",
    "            self.grid.place_agent(a, coords)\n",
    "\n",
    "    def step(self):\n",
    "        self.agents.shuffle_do(\"step\")"
   ]
  },
  {
   "cell_type": "code",
   "execution_count": null,
   "id": "6b486863-c3c4-437c-bf01-548e19b747d5",
   "metadata": {},
   "outputs": [],
   "source": [
    "model = MyModel(n_agents=7)"
   ]
  },
  {
   "cell_type": "markdown",
   "id": "10b69347-4c73-4ff3-afdf-74238a75cc7d",
   "metadata": {},
   "source": [
    "### Space: Discrete and continiuous\n",
    "-> Covered in later lecture"
   ]
  },
  {
   "cell_type": "markdown",
   "id": "d1213e60-2281-4558-bc9c-52d0e483c577",
   "metadata": {},
   "source": [
    "## AgentSet and model.agents\n",
    "\n",
    "`model.agents` is an AgentSet containing all agents in the model. It’s automatically updated when agents are added or removed:"
   ]
  },
  {
   "cell_type": "code",
   "execution_count": null,
   "id": "8d2524f1-8f84-4a8d-b282-50b09e513cfc",
   "metadata": {},
   "outputs": [],
   "source": [
    "# Get total number of agents\n",
    "num_agents = len(model.agents)\n",
    "\n",
    "# Iterate over all agents\n",
    "for agent in model.agents:\n",
    "    print(agent)"
   ]
  },
  {
   "cell_type": "markdown",
   "id": "eccbf7cd-21ce-435d-81f7-49858d1608bd",
   "metadata": {},
   "source": [
    "#### Selecting: Filter agents based on criteria."
   ]
  },
  {
   "cell_type": "code",
   "execution_count": null,
   "id": "1d0bb7c7-c8fb-4bee-96f3-cf42b706ad7c",
   "metadata": {},
   "outputs": [],
   "source": [
    "high_energy_agents = model.agents.select(lambda a: a.age > 70)\n",
    "print(high_energy_agents)"
   ]
  },
  {
   "cell_type": "code",
   "execution_count": null,
   "id": "68be61eb-564d-4628-b5cd-471d3760e085",
   "metadata": {
    "jupyter": {
     "source_hidden": true
    }
   },
   "outputs": [],
   "source": [
    "high_energy_agents = model.agents.select(lambda a: a.age > 70)\n",
    "selected_list = [agent for agent in high_energy_agents]\n",
    "print(selected_list)"
   ]
  },
  {
   "cell_type": "markdown",
   "id": "fe8f0c7f-15e3-42a4-bb46-19c674b1d032",
   "metadata": {},
   "source": [
    "#### Shuffling and Sorting: Randomize or order agents."
   ]
  },
  {
   "cell_type": "code",
   "execution_count": null,
   "id": "58759afc-aaf9-4bf9-830a-b0565bf54bef",
   "metadata": {},
   "outputs": [],
   "source": [
    "shuffled_agents = model.agents.shuffle()\n",
    "sorted_agents = model.agents.sort(key=\"energy\", ascending=False)"
   ]
  },
  {
   "cell_type": "markdown",
   "id": "6f5329e2-404b-455e-93ac-d17979c3124b",
   "metadata": {},
   "source": [
    "#### Applying methods: Execute methods on all agents."
   ]
  },
  {
   "cell_type": "code",
   "execution_count": null,
   "id": "11923dbc-1c20-422e-aaa6-152f93d8f390",
   "metadata": {},
   "outputs": [],
   "source": [
    "model.agents.do(\"step\")\n",
    "model.agents.shuffle_do(\"move\")  # Shuffle then apply method"
   ]
  },
  {
   "cell_type": "markdown",
   "id": "f4f40fdf-d458-4cf3-81e6-d514e4ff002a",
   "metadata": {},
   "source": [
    "#### Aggregating: Compute aggregate values across agents."
   ]
  },
  {
   "cell_type": "code",
   "execution_count": null,
   "id": "1e2d68a8-8023-42da-bb77-c1b5081a6cf5",
   "metadata": {},
   "outputs": [],
   "source": [
    "avg_energy = model.agents.agg(\"energy\", func=np.mean)"
   ]
  },
  {
   "cell_type": "markdown",
   "id": "17945e05-139f-4a0a-b00f-ad2e2b7d8c33",
   "metadata": {},
   "source": [
    "#### Grouping: Group agents by attributes."
   ]
  },
  {
   "cell_type": "code",
   "execution_count": null,
   "id": "9055f7ef-1a4d-4ab0-b219-2df8b7cbb08c",
   "metadata": {},
   "outputs": [],
   "source": [
    "grouped_agents = model.agents.groupby(\"species\")\n",
    "\n",
    "for _, agent_group in grouped_agents:\n",
    "   agent_group.shuffle_do()\n",
    "species_counts = grouped_agents.count()\n",
    "mean_age_by_group = grouped_agents.agg(\"age\", np.mean)"
   ]
  },
  {
   "cell_type": "markdown",
   "id": "1dd07760-c483-458a-b829-4c6767f49789",
   "metadata": {},
   "source": [
    "## Time Advancement and Agent Activation"
   ]
  },
  {
   "cell_type": "markdown",
   "id": "a965947f-525d-46a1-bb17-30cdaee88b16",
   "metadata": {},
   "source": [
    "### Basic Time Steps\n",
    "\n",
    "Run the model for a specified number of steps:"
   ]
  },
  {
   "cell_type": "code",
   "execution_count": null,
   "id": "a4492d11-5d2a-4788-822a-bbd3572bda7f",
   "metadata": {},
   "outputs": [],
   "source": [
    "model = MyModel(n_agents=7)\n",
    "for _ in range(100):\n",
    "    model.step()"
   ]
  },
  {
   "cell_type": "markdown",
   "id": "5c650ca7-6508-4a57-9b55-a32c01c8cc4d",
   "metadata": {},
   "source": [
    "### Agent Activation Patterns"
   ]
  },
  {
   "cell_type": "code",
   "execution_count": null,
   "id": "201267d9-e5b4-48eb-a237-7d138ab3b759",
   "metadata": {},
   "outputs": [],
   "source": [
    "# Sequential activation\n",
    "model.agents.do(\"step\")"
   ]
  },
  {
   "cell_type": "code",
   "execution_count": null,
   "id": "bf654044-5a82-4082-80a1-394dda6dc34a",
   "metadata": {},
   "outputs": [],
   "source": [
    "# Random activation\n",
    "model.agents.shuffle_do(\"step\")"
   ]
  },
  {
   "cell_type": "markdown",
   "id": "1a33cbac-4cd8-474a-bfdd-98be575090d4",
   "metadata": {},
   "source": [
    "## Analysis modules\n",
    "\n",
    "Data collection and batch running are implemented in the appropriately-named analysis modules:\n",
    "\n",
    "* [mesa.datacollection](https://mesa.readthedocs.io/latest/apis/datacollection.html)\n",
    "* [mesa.batchrunner](https://mesa.readthedocs.io/latest/apis/batchrunner.html)"
   ]
  },
  {
   "cell_type": "code",
   "execution_count": null,
   "id": "111b6a94-4d45-43c2-a06d-c20f5635b159",
   "metadata": {},
   "outputs": [],
   "source": [
    "import mesa\n",
    "import numpy as np\n",
    "\n",
    "# ...\n",
    "\n",
    "class MyModel(mesa.Model):\n",
    "    debug = False\n",
    "    def __init__(self):\n",
    "        n_agents = 7\n",
    "        super().__init__()\n",
    "        self.grid = mesa.space.MultiGrid(10, 10, torus=True)\n",
    "        for _ in range(n_agents):\n",
    "            initial_age = self.random.randint(0, 80)\n",
    "            a = MyAgent(self, initial_age)\n",
    "            coords = (self.random.randrange(0, 10), self.random.randrange(0, 10))\n",
    "            self.grid.place_agent(a, coords)\n",
    "        self.datacollector = mesa.DataCollector(\n",
    "            model_reporters={\"mean_age\": lambda m: m.agents.agg(\"age\", np.mean)},\n",
    "            agent_reporters={\"age\": \"age\"}\n",
    "        )\n",
    "\n",
    "    def step(self):\n",
    "        self.agents.shuffle_do(\"step\")\n",
    "        self.datacollector.collect(self)"
   ]
  },
  {
   "cell_type": "markdown",
   "id": "61c6e349-0d89-40c3-ae8c-9891b02e7c39",
   "metadata": {},
   "source": [
    "After you’re done running it, you can extract the data as a pandas DataFrame:"
   ]
  },
  {
   "cell_type": "code",
   "execution_count": null,
   "id": "7ba2a374-b0bb-4e7a-bed9-680b97488d28",
   "metadata": {},
   "outputs": [],
   "source": [
    "model = MyModel(5)\n",
    "for t in range(10):\n",
    "    model.step()\n",
    "model_df = model.datacollector.get_model_vars_dataframe()\n",
    "agent_df = model.datacollector.get_agent_vars_dataframe()"
   ]
  },
  {
   "cell_type": "markdown",
   "id": "013837d9-cff0-4819-b2ce-3e556b6b90fd",
   "metadata": {},
   "source": [
    "To batch-run the model while varying, for example, the n_agents parameter, you’d use the `batch_run` function:"
   ]
  },
  {
   "cell_type": "code",
   "execution_count": null,
   "id": "e6120551-10d9-4ffc-bf7a-2b1d5f104803",
   "metadata": {},
   "outputs": [],
   "source": [
    "import mesa\n",
    "\n",
    "parameters = {\"n_agents\": range(1, 6)}\n",
    "results = mesa.batch_run(\n",
    "    MyModel,\n",
    "    parameters,\n",
    "    iterations=5,\n",
    "    max_steps=100,\n",
    "    data_collection_period=1,\n",
    "    number_processes=1  # Change to use multiple CPU cores for parallel execution\n",
    ")"
   ]
  },
  {
   "cell_type": "markdown",
   "id": "d3a16c63-ff2a-447f-957f-8cbef88a250b",
   "metadata": {},
   "source": [
    "## Visualization\n",
    "SolaraViz allows for interactive, customizable visualizations of your models."
   ]
  },
  {
   "cell_type": "code",
   "execution_count": null,
   "id": "45b61458-be75-4aac-b9a9-a16905a27cf9",
   "metadata": {},
   "outputs": [],
   "source": [
    "from mesa.visualization import SolaraViz, make_space_component, make_plot_component\n",
    "\n",
    "\n",
    "def agent_portrayal(agent):\n",
    "    return {\"color\": \"blue\", \"size\": 50}\n",
    "\n",
    "\n",
    "model_params = {\n",
    "    \"n_agents\": Slider(\n",
    "        label=\"Number of agents:\",\n",
    "        value=50,\n",
    "        min=1,\n",
    "        max=100,\n",
    "        step=1\n",
    "    )\n",
    "}\n",
    "\n",
    "model = MyModel()\n",
    "\n",
    "page = SolaraViz(\n",
    "    model,\n",
    "    components = [\n",
    "        make_space_component(agent_portrayal),\n",
    "        make_plot_component(\"mean_age\")\n",
    "    ],\n",
    "    model_params=model_params,\n",
    ")\n",
    "page"
   ]
  },
  {
   "cell_type": "markdown",
   "id": "1d7b6f1a-ccb8-44e2-b947-750eef222e14",
   "metadata": {},
   "source": [
    "## Example: Schelling Model"
   ]
  },
  {
   "cell_type": "code",
   "execution_count": null,
   "id": "345f1d14-11b0-4f17-9dbf-dc4c6103c2ac",
   "metadata": {
    "tags": []
   },
   "outputs": [],
   "source": [
    "import solara\n",
    "\n",
    "from mesa.examples.basic.schelling.model import Schelling\n",
    "from mesa.visualization import (\n",
    "    Slider,\n",
    "    SolaraViz,\n",
    "    make_plot_component,\n",
    "    make_space_component,\n",
    ")\n",
    "\n",
    "\n",
    "def get_happy_agents(model):\n",
    "    \"\"\"Display a text count of how many happy agents there are.\"\"\"\n",
    "    return solara.Markdown(f\"**Happy agents: {model.happy}**\")\n",
    "\n",
    "\n",
    "def agent_portrayal(agent):\n",
    "    return {\"color\": \"tab:orange\" if agent.type == 0 else \"tab:blue\"}\n",
    "\n",
    "\n",
    "model_params = {\n",
    "    \"seed\": {\n",
    "        \"type\": \"InputText\",\n",
    "        \"value\": 42,\n",
    "        \"label\": \"Random Seed\",\n",
    "    },\n",
    "    \"density\": Slider(\"Agent density\", 0.8, 0.1, 1.0, 0.1),\n",
    "    \"minority_pc\": Slider(\"Fraction minority\", 0.2, 0.0, 1.0, 0.05),\n",
    "    \"homophily\": Slider(\"Homophily\", 0.4, 0.0, 1.0, 0.125),\n",
    "    \"width\": 20,\n",
    "    \"height\": 20,\n",
    "}\n",
    "\n",
    "model1 = Schelling()\n",
    "\n",
    "HappyPlot = make_plot_component({\"happy\": \"tab:green\"})\n",
    "\n",
    "page = SolaraViz(\n",
    "    model1,\n",
    "    components=[\n",
    "        make_space_component(agent_portrayal),\n",
    "        HappyPlot,\n",
    "        get_happy_agents,\n",
    "    ],\n",
    "    model_params=model_params,\n",
    ")\n",
    "page  # noqa\n"
   ]
  },
  {
   "cell_type": "markdown",
   "id": "96be85d7-7e93-4866-b2cf-c8664587e9a0",
   "metadata": {},
   "source": [
    "## Introduction to Evacuation Model"
   ]
  },
  {
   "cell_type": "code",
   "execution_count": null,
   "id": "6b047421-cabe-4f20-9bb9-4e3826bf1729",
   "metadata": {
    "jupyter": {
     "source_hidden": true
    }
   },
   "outputs": [],
   "source": [
    "import sys\n",
    "sys.path.insert(0,'../../abmodel')\n",
    "\n",
    "from mesa.visualization import SolaraViz, make_space_component, make_plot_component\n",
    "from fire_evacuation.model import FireEvacuation\n",
    "from fire_evacuation.agent import Human, FireExit, Wall, Sight\n",
    "import os\n",
    "import solara\n",
    "\n",
    "current_dir = '../../abmodel'\n",
    "\n",
    "# Specify the parameters changeable by the user, in the web interface\n",
    "model_params = {\n",
    "    \"random_spawn\": {\n",
    "        \"type\": \"Checkbox\",\n",
    "        \"value\": True,\n",
    "        \"label\": \"Random spawn of initial positions\",\n",
    "    },\n",
    "    \"floor_size\": {\n",
    "        \"type\": \"SliderInt\",\n",
    "        \"value\": 12,\n",
    "        \"label\": \"Room size (edge)\",\n",
    "        \"min\": 5,\n",
    "        \"max\": 30,\n",
    "        \"step\": 1,\n",
    "    },\n",
    "    \"human_count\": {\n",
    "        \"type\": \"SliderInt\",\n",
    "        \"value\": 80,\n",
    "        \"label\": \"Number Of Human Agents\",\n",
    "        \"min\": 1,\n",
    "        \"max\": 500,\n",
    "        \"step\": 5,\n",
    "    },\n",
    "    \"max_speed\": {\n",
    "        \"type\": \"SliderInt\",\n",
    "        \"value\": 2,\n",
    "        \"label\": \"Maximum Speed of agents\",\n",
    "        \"min\": 1,\n",
    "        \"max\": 5,\n",
    "        \"step\": 1,\n",
    "    },\n",
    "    \"alarm_believers_prop\": {\n",
    "        \"type\": \"SliderFloat\",\n",
    "        \"value\": 1.0,\n",
    "        \"label\": \"Proportion of Alarm Believers\",\n",
    "        \"min\": 0.0,\n",
    "        \"max\": 1.0,\n",
    "        \"step\": 0.05,\n",
    "    },\n",
    "    \"cooperation_mean\": {\n",
    "        \"type\": \"SliderFloat\",\n",
    "        \"value\": 0.3,\n",
    "        \"label\": \"Mean Cooperation\",\n",
    "        \"min\": 0.0,\n",
    "        \"max\": 1.0,\n",
    "        \"step\": 0.01,\n",
    "    },\n",
    "    \"nervousness_mean\": {\n",
    "        \"type\": \"SliderFloat\",\n",
    "        \"value\": 0.3,\n",
    "        \"label\": \"Mean Nervousness\",\n",
    "        \"min\": 0.0,\n",
    "        \"max\": 1.0,\n",
    "        \"step\": 0.01,\n",
    "    },\n",
    "}\n",
    "\n",
    "def agent_portrayal(agent):\n",
    "    size = 10\n",
    "    if type(agent) is Human:\n",
    "        if agent.believes_alarm:\n",
    "            # believes in alarm\n",
    "            shape = os.path.join(current_dir, \"fire_evacuation/resources/alarmbeliever.png\")\n",
    "        elif agent.nervousness > Human.NERVOUSNESS_PANIC_THRESHOLD:\n",
    "            shape = os.path.join(current_dir, \"fire_evacuation/resources/panicked_human.png\")\n",
    "        elif agent.humantohelp is not None:\n",
    "            shape = os.path.join(current_dir, \"fire_evacuation/resources/cooperating_human.png\")\n",
    "        else:\n",
    "            shape = os.path.join(current_dir, \"fire_evacuation/resources/human.png\")\n",
    "    elif type(agent) is FireExit:\n",
    "        shape = os.path.join(current_dir, \"fire_evacuation/resources/fire_exit.png\")\n",
    "    elif type(agent) is Wall:\n",
    "        shape = os.path.join(current_dir, \"fire_evacuation/resources/wall.png\")\n",
    "    elif type(agent) is Sight:\n",
    "        shape = os.path.join(current_dir, \"fire_evacuation/resources/eye.png\")\n",
    "    else:\n",
    "        shape = \"X\"\n",
    "    return {\"size\": size,\n",
    "            \"marker\": shape,\n",
    "            \"color\": \"red\",\n",
    "            }\n",
    "\n",
    "model = solara.reactive(FireEvacuation(\n",
    "            floor_size = 14,\n",
    "            human_count = 70,\n",
    "            alarm_believers_prop = 1.0,\n",
    "            max_speed = 2,\n",
    "            seed = 3)\n",
    "        )\n",
    "\n",
    "page = SolaraViz(\n",
    "    model,\n",
    "    model_params = model_params,\n",
    "    name=\"Evacuation Model\",\n",
    "    components=[make_space_component(agent_portrayal),\n",
    "                make_plot_component(\"AvgNervousness\"),\n",
    "                ],\n",
    ")\n",
    "\n",
    "page  # noqa"
   ]
  },
  {
   "cell_type": "code",
   "execution_count": null,
   "id": "fbbe7433-54d9-47ad-b649-b1abbc5dbcb0",
   "metadata": {},
   "outputs": [],
   "source": []
  }
 ],
 "metadata": {
  "kernelspec": {
   "display_name": "Python 3 (ipykernel)",
   "language": "python",
   "name": "python3"
  },
  "language_info": {
   "codemirror_mode": {
    "name": "ipython",
    "version": 3
   },
   "file_extension": ".py",
   "mimetype": "text/x-python",
   "name": "python",
   "nbconvert_exporter": "python",
   "pygments_lexer": "ipython3",
   "version": "3.12.10"
  }
 },
 "nbformat": 4,
 "nbformat_minor": 5
}
