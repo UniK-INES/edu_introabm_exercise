{
 "cells": [
  {
   "cell_type": "markdown",
   "metadata": {},
   "source": [
    "# Exercise 05"
   ]
  },
  {
   "cell_type": "markdown",
   "metadata": {},
   "source": [
    "## Division in python"
   ]
  },
  {
   "cell_type": "code",
   "execution_count": 17,
   "metadata": {},
   "outputs": [
    {
     "name": "stdout",
     "output_type": "stream",
     "text": [
      "Facilitator No. 0\n",
      "Facilitator No. 1\n",
      "Facilitator No. 2\n",
      "Facilitator No. 3\n",
      "Facilitator No. 4\n",
      "Facilitator No. 5\n",
      "Facilitator No. 6\n",
      "Facilitator No. 7\n",
      "Facilitator No. 8\n",
      "Facilitator No. 9\n"
     ]
    }
   ],
   "source": [
    "facilitators_percentage = 10\n",
    "human_count = 100\n",
    "for i in range(0,(human_count*facilitators_percentage) // 100):\n",
    "    print(f\"Facilitator No. {i}\")"
   ]
  },
  {
   "cell_type": "markdown",
   "metadata": {},
   "source": [
    "## Logging in python"
   ]
  },
  {
   "cell_type": "markdown",
   "metadata": {},
   "source": [
    "Logging is quite easy to [setup](https://medium.com/analytics-vidhya/the-python-logging-cheatsheet-easy-and-fast-way-to-get-logging-done-in-python-aa3cb99ecfe8) and has some advantages:\n",
    "* control about what is ouput\n",
    "* various targets (file, console)\n",
    "* easy switching off\n",
    "\n",
    "Complete documentation: https://docs.python.org/3/library/logging.html"
   ]
  },
  {
   "cell_type": "code",
   "execution_count": 1,
   "metadata": {
    "tags": []
   },
   "outputs": [],
   "source": [
    "import sys\n",
    "sys.path.insert(0,'task02/')\n",
    "import logging\n",
    "from pd_grid.model import PdGrid\n",
    "from mesa.visualization import show_logs, freeze_logs\n"
   ]
  },
  {
   "cell_type": "code",
   "execution_count": 2,
   "metadata": {
    "tags": []
   },
   "outputs": [
    {
     "data": {
      "application/vnd.jupyter.widget-view+json": {
       "model_id": "22da9fc8d3754d9f9cde24f2494a241d",
       "version_major": 2,
       "version_minor": 0
      },
      "text/plain": [
       "Output(layout=Layout(border_bottom='1px solid black', border_left='1px solid black', border_right='1px solid b…"
      ]
     },
     "metadata": {},
     "output_type": "display_data"
    }
   ],
   "source": [
    "show_logs(\"DPD\")\n",
    "m_random = PdGrid(10, 10, \"Random\", seed=25, printneighbourscore=True, printneighbourorder=True, focalpos = (1,1))\n",
    "m_random.run(3)\n",
    "freeze_logs(\"DPD\")"
   ]
  },
  {
   "cell_type": "markdown",
   "metadata": {},
   "source": [
    "### Output sub-logger"
   ]
  },
  {
   "cell_type": "code",
   "execution_count": 3,
   "metadata": {
    "tags": []
   },
   "outputs": [
    {
     "data": {
      "application/vnd.jupyter.widget-view+json": {
       "model_id": "4f9b910b170a42be9d3b815a1094f60e",
       "version_major": 2,
       "version_minor": 0
      },
      "text/plain": [
       "Output(layout=Layout(border_bottom='1px solid black', border_left='1px solid black', border_right='1px solid b…"
      ]
     },
     "metadata": {},
     "output_type": "display_data"
    }
   ],
   "source": [
    "show_logs(\"DPD.scores\")\n",
    "m_random = PdGrid(10, 10, \"Random\", seed=25, printneighbourscore=True, printneighbourorder=True, focalpos = (1,1))\n",
    "m_random.run(3)\n",
    "freeze_logs(\"DPD.scores\")"
   ]
  },
  {
   "cell_type": "code",
   "execution_count": 4,
   "metadata": {
    "tags": []
   },
   "outputs": [
    {
     "data": {
      "application/vnd.jupyter.widget-view+json": {
       "model_id": "3b6907397d4a4b059dfdb3cc3a82cbdd",
       "version_major": 2,
       "version_minor": 0
      },
      "text/plain": [
       "Output(layout=Layout(border_bottom='1px solid black', border_left='1px solid black', border_right='1px solid b…"
      ]
     },
     "metadata": {},
     "output_type": "display_data"
    }
   ],
   "source": [
    "show_logs(\"DPD.neighbours\")\n",
    "m_random = PdGrid(10, 10, \"Random\", seed=25, printneighbourscore=True, printneighbourorder=True, focalpos = (1,1))\n",
    "m_random.run(3)\n",
    "freeze_logs(\"DPD.neighbours\")"
   ]
  },
  {
   "cell_type": "code",
   "execution_count": 15,
   "metadata": {},
   "outputs": [
    {
     "data": {
      "application/vnd.jupyter.widget-view+json": {
       "model_id": "e8911e5a9b0e4d2eb438346b1a799679",
       "version_major": 2,
       "version_minor": 0
      },
      "text/plain": [
       "Output(layout=Layout(border_bottom='1px solid black', border_left='1px solid black', border_right='1px solid b…"
      ]
     },
     "metadata": {},
     "output_type": "display_data"
    }
   ],
   "source": [
    "logger = logging.getLogger(\"DPD.scores.test\")\n",
    "show_logs(\"DPD.scores\")\n",
    "logger.info(\"Test\")\n",
    "m_random = PdGrid(10, 10, \"Random\", seed=25, printneighbourscore=True, printneighbourorder=True, focalpos = (1,1))\n",
    "m_random.run(3)\n",
    "freeze_logs(\"DPD.scores\")"
   ]
  },
  {
   "cell_type": "markdown",
   "metadata": {},
   "source": [
    "### Set log level"
   ]
  },
  {
   "cell_type": "code",
   "execution_count": 19,
   "metadata": {
    "tags": []
   },
   "outputs": [
    {
     "data": {
      "application/vnd.jupyter.widget-view+json": {
       "model_id": "af3a0d003aae49fb8555144aab08f17b",
       "version_major": 2,
       "version_minor": 0
      },
      "text/plain": [
       "Output(layout=Layout(border_bottom='1px solid black', border_left='1px solid black', border_right='1px solid b…"
      ]
     },
     "metadata": {},
     "output_type": "display_data"
    }
   ],
   "source": [
    "show_logs(\"DPD.neighbours\")\n",
    "logger = logging.getLogger(\"DPD.neighbours\")\n",
    "logger.setLevel(logging.DEBUG)\n",
    "m_random = PdGrid(10, 10, \"Random\", seed=25, printneighbourscore=True, printneighbourorder=True, focalpos = (1,1))\n",
    "m_random.run(3)\n",
    "freeze_logs(\"DPD.neighbours\")"
   ]
  },
  {
   "cell_type": "markdown",
   "metadata": {},
   "source": [
    "### Formatting by Handler"
   ]
  },
  {
   "cell_type": "code",
   "execution_count": 20,
   "metadata": {
    "tags": []
   },
   "outputs": [
    {
     "data": {
      "application/vnd.jupyter.widget-view+json": {
       "model_id": "27a6faa6e48f40eeaea88664dd1f9907",
       "version_major": 2,
       "version_minor": 0
      },
      "text/plain": [
       "Output(layout=Layout(border_bottom='1px solid black', border_left='1px solid black', border_right='1px solid b…"
      ]
     },
     "metadata": {},
     "output_type": "display_data"
    }
   ],
   "source": [
    "handler = show_logs(\"DPD\")\n",
    "logger = logging.getLogger(\"DPD\")\n",
    "logger.setLevel(logging.DEBUG)\n",
    "handler.setFormatter(logging.Formatter(\"%(message)s\"))\n",
    "m_random = PdGrid(10, 10, \"Random\", seed=25, printneighbourscore=True)\n",
    "m_random.run(3)\n",
    "freeze_logs(\"DPD\")\n"
   ]
  },
  {
   "cell_type": "markdown",
   "metadata": {},
   "source": [
    "### Output to File"
   ]
  },
  {
   "cell_type": "code",
   "execution_count": 21,
   "metadata": {
    "tags": []
   },
   "outputs": [],
   "source": [
    "# restart kernel\n",
    "import sys\n",
    "import logging\n",
    "sys.path.insert(0,'task02')\n",
    "from pd_grid.model import PdGrid\n",
    "from mesa.visualization import show_logs, freeze_logs\n",
    "logging.basicConfig(filename='my_log_file.log',level=logging.INFO)\n",
    "\n",
    "m_random = PdGrid(10, 10, \"Random\", seed=25, printneighbourscore=True)\n",
    "m_random.run(30)"
   ]
  },
  {
   "cell_type": "markdown",
   "metadata": {
    "tags": []
   },
   "source": [
    "## Demographic Prisoner's Dilemma\n",
    "\n",
    "The Demographic Prisoner's Dilemma is a family of variants on the classic two-player [Prisoner's Dilemma](https://en.wikipedia.org/wiki/Prisoner's_dilemma), first developed by [Joshua Epstein](http://citeseerx.ist.psu.edu/viewdoc/download?doi=10.1.1.8.8629&rep=rep1&type=pdf). The model consists of agents, each with a strategy of either Cooperate or Defect, playing against each neighbour in the Moore-neighbourhood. Each agent's payoff is based on its strategy and the strategies of its spatial neighbors. After each step of the model, the agents adopt the strategy of their neighbor (or their own) with the highest total score. \n",
    "\n",
    "The specific variant presented here is adapted from the [Evolutionary Prisoner's Dilemma](http://ccl.northwestern.edu/netlogo/models/Prisoner'sDilemmaBasicEvolutionary) model included with NetLogo. Its payoff table is a slight variant of the traditional PD payoff table:\n",
    "\n",
    "<table>\n",
    "    <tr><td></td><td>Cooperate</td><td>Defect</td></tr>\n",
    "    <tr><td>Cooperate</td><td>1, 1</td><td>0, D</td></tr>\n",
    "    <tr><td>Defect</td><td>D, 0</td><td>0, 0</td></tr>\n",
    "</table>\n",
    "\n",
    "Where *D* is the defection bonus, generally set higher than 1. In these runs, the defection bonus is set to $D=1.6$.\n",
    "\n",
    "The Demographic Prisoner's Dilemma demonstrates how simple rules can lead to the emergence of widespread cooperation, despite the Defection strategy dominating each individual interaction game. However, it is also interesting for another reason: it is known to be sensitive to the activation regime employed in it.\n",
    "\n",
    "Below, we demonstrate this by instantiating the same model (with the same random seed) three times, with three different activation regimes: \n",
    "\n",
    "* Sequential activation, where agents are activated in the order they were added to the model;\n",
    "* Random activation, where they are activated in random order every step;\n",
    "* Simultaneous activation, simulating them all being activated simultaneously.\n",
    "\n"
   ]
  },
  {
   "cell_type": "code",
   "execution_count": 22,
   "metadata": {
    "tags": []
   },
   "outputs": [],
   "source": [
    "import sys\n",
    "sys.path.insert(0,'task02/pd_grid')\n",
    "from pd_grid.model import PdGrid\n",
    "\n",
    "import numpy as np\n",
    "import pandas as pd\n",
    "import matplotlib.pyplot as plt\n",
    "import matplotlib.gridspec\n",
    "from matplotlib.colors import LinearSegmentedColormap\n",
    "from mesa.visualization import show_logs, freeze_logs\n",
    "\n",
    "%matplotlib inline\n",
    "matplotlib.rcParams['font.size'] = 12"
   ]
  },
  {
   "cell_type": "markdown",
   "metadata": {
    "tags": []
   },
   "source": [
    "## Helper functions"
   ]
  },
  {
   "cell_type": "markdown",
   "metadata": {
    "tags": []
   },
   "source": [
    "## Subtask 2.2\n",
    "\n",
    "Explain the different evolution of cooperators for random and simultaneous activation schemes by exploring the warm-up phase. Why does for some random seeds the number of cooperators go down before it raises, but not for sequential? (< 300 words)"
   ]
  },
  {
   "cell_type": "markdown",
   "metadata": {},
   "source": [
    "#### Run DPD in browser"
   ]
  },
  {
   "cell_type": "code",
   "execution_count": 27,
   "metadata": {
    "tags": []
   },
   "outputs": [
    {
     "data": {
      "application/vnd.jupyter.widget-view+json": {
       "model_id": "4c1fc792c4c3442cb5d6234815c7c3b1",
       "version_major": 2,
       "version_minor": 0
      },
      "text/html": [
       "Cannot show widget. You probably want to rerun the code cell above (<i>Click in the code cell, and press Shift+Enter <kbd>⇧</kbd>+<kbd>↩</kbd></i>)."
      ],
      "text/plain": [
       "Cannot show ipywidgets in text"
      ]
     },
     "metadata": {},
     "output_type": "display_data"
    }
   ],
   "source": [
    "from app import page\n",
    "page"
   ]
  },
  {
   "cell_type": "markdown",
   "metadata": {},
   "source": [
    "## Variations in parameters"
   ]
  },
  {
   "cell_type": "code",
   "execution_count": null,
   "metadata": {},
   "outputs": [],
   "source": [
    "params = dict(\n",
    "    floor_size=10,\n",
    "    human_count=40,\n",
    "    alarm_believers_prop = 0.5,\n",
    "    cooperation_mean = np.arange(0.1,0.7,0.1),\n",
    "    nervousness_mean = np.arange(0.1,0.7,0.1),\n",
    "    seed = range(1,100),\n",
    ")\n",
    "\n",
    "\n",
    "results3 = batch_run(\n",
    "    FireEvacuation,\n",
    "    parameters=params,\n",
    "    iterations = 1,\n",
    "    max_steps = 200,\n",
    ")\n",
    "analyseBatchRun(results3)"
   ]
  },
  {
   "cell_type": "code",
   "execution_count": null,
   "metadata": {},
   "outputs": [],
   "source": [
    "params = dict(\n",
    "    floor_size=10,\n",
    "    human_count=40,\n",
    "    alarm_believers_prop = 0.2,\n",
    "    cooperation_mean = np.arange(0.1,0.7,0.1),\n",
    "    nervousness_mean = np.arange(0.1,0.7,0.1),\n",
    "    seed = range(1,100),\n",
    ")\n",
    "\n",
    "results4 = batch_run(\n",
    "    FireEvacuation,\n",
    "    parameters=params,\n",
    "    iterations = 1,\n",
    "    max_steps = 200,\n",
    ")\n",
    "\n",
    "analyseBatchRun(results4)"
   ]
  },
  {
   "cell_type": "code",
   "execution_count": null,
   "metadata": {},
   "outputs": [],
   "source": [
    "params = dict(\n",
    "    floor_size=10,\n",
    "    human_count=80,\n",
    "    alarm_believers_prop = 0.2,\n",
    "    cooperation_mean = np.arange(0.1,0.7,0.2),\n",
    "    nervousness_mean = np.arange(0.1,0.7,0.2),\n",
    "    seed = range(1,100),\n",
    ")\n",
    "\n",
    "results5 = batch_run(\n",
    "    FireEvacuation,\n",
    "    parameters=params,\n",
    "    iterations = 1,\n",
    "    max_steps = 200,\n",
    ")\n",
    "\n",
    "analyseBatchRun(results5)"
   ]
  },
  {
   "cell_type": "code",
   "execution_count": null,
   "metadata": {},
   "outputs": [],
   "source": [
    "params = dict(\n",
    "    floor_size=10,\n",
    "    human_count=80,\n",
    "    alarm_believers_prop = 0.5,\n",
    "    cooperation_mean = np.arange(0.1,0.7,0.1),\n",
    "    nervousness_mean = np.arange(0.1,0.7,0.1),\n",
    "    seed = range(1,100),\n",
    ")\n",
    "\n",
    "results6 = batch_run(\n",
    "    FireEvacuation,\n",
    "    parameters=params,\n",
    "    iterations = 1,\n",
    "    max_steps = 200,\n",
    ")\n",
    "\n",
    "analyseBatchRun(results6)"
   ]
  }
 ],
 "metadata": {
  "kernelspec": {
   "display_name": "Python 3 (ipykernel)",
   "language": "python",
   "name": "python3"
  },
  "language_info": {
   "codemirror_mode": {
    "name": "ipython",
    "version": 3
   },
   "file_extension": ".py",
   "mimetype": "text/x-python",
   "name": "python",
   "nbconvert_exporter": "python",
   "pygments_lexer": "ipython3",
   "version": "3.12.3"
  }
 },
 "nbformat": 4,
 "nbformat_minor": 4
}
