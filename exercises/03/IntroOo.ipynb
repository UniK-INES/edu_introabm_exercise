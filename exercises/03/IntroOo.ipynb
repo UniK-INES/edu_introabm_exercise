{
 "cells": [
  {
   "cell_type": "markdown",
   "id": "a3d661be-1b33-4b73-9350-55ed7f589e06",
   "metadata": {},
   "source": [
    "# Introduction to Object-oriented Programming in python\n",
    "\n",
    "## Agenda\n",
    "\n",
    "* Principles of object-oriented programming\n",
    "* Terms\n",
    "* Writing object-oriented code\n",
    "* Principles\n",
    "* `__str__` function"
   ]
  },
  {
   "cell_type": "code",
   "execution_count": null,
   "id": "627c3a6d-f2e8-4045-8788-216cf5a2f5e4",
   "metadata": {},
   "outputs": [],
   "source": [
    "from mesa import Agent, Model"
   ]
  },
  {
   "cell_type": "markdown",
   "id": "58042f96-2b06-4d52-a94e-916a4a66d7c5",
   "metadata": {},
   "source": [
    "## Benefits of object-oriented programming\n",
    "\n",
    "* Python enabels object-oriented programming (OOP), but you don't need to apply it.\n",
    "* For ABM however, OOP is the natural way of implementing models.\n",
    "* OOP helps to organise code and to extend it.\n",
    "* OOP is a way to write DRY (Don't Repeat Yourself) code.\n",
    "\n",
    "## Terms\n",
    "### Classes and objects/instances\n",
    "\n",
    "* A Class is a formal description of how an object is designed.\n",
    "* Classes in object-oriented programming are all about grouping data and behavior together in one place: an object.\n",
    "* Objects are instances of classes.\n",
    "\n",
    "### Methods vs. Functions\n",
    "A method is a piece of code that is called by a name that is associated with an object. Methods and functions are similar but have two key differences:\n",
    "\n",
    "* A method is implicitly passed the object on which it was called. In other words, you won't see all the inputs in the parameter list.\n",
    "* A method is able to operate on data that is contained within the object. In other words, you won't see all the outputs in the return statement."
   ]
  },
  {
   "cell_type": "markdown",
   "id": "75259304-d86c-4469-82b2-8a980be64741",
   "metadata": {},
   "source": [
    "## Writing object-oriented code\n",
    "\n",
    "### The `self` keyword\n",
    "\n",
    "The self variable is a reference to the object itself, so by using it you can read and update the properties of the object.\n",
    "\n",
    "### The constructor\n"
   ]
  },
  {
   "cell_type": "code",
   "execution_count": null,
   "id": "a151bafd-e458-43c2-8aa7-c9df055758f6",
   "metadata": {},
   "outputs": [],
   "source": [
    "class Human(Agent):\n",
    "    def __init__(self,\n",
    "            name,\n",
    "            speed: int,\n",
    "            model,\n",
    "        ):\n",
    "        \n",
    "        super().__init__(model)\n",
    "        self.name = name\n",
    "        self.walkingspeed = speed"
   ]
  },
  {
   "cell_type": "markdown",
   "id": "c9031a68-f9c8-4c62-90d1-40735cc529aa",
   "metadata": {},
   "source": [
    "### Class variables and instance variables"
   ]
  },
  {
   "cell_type": "code",
   "execution_count": null,
   "id": "2eb2ee6c-9e9c-46f4-ad5f-c665f41a5667",
   "metadata": {},
   "outputs": [],
   "source": [
    "def getSize():\n",
    "    return Child.bodysize\n",
    "\n",
    "class Child(Human):\n",
    "    bodysize = 10\n",
    "    def __init__(self,\n",
    "                name,\n",
    "                speed: int,\n",
    "                model,\n",
    "            ):\n",
    "        super().__init__(name, speed, model)\n",
    "        self.walkingspeed = speed\n",
    "        self.writingspeed = 2*speed\n",
    "        \n",
    "    def get_speed(self):\n",
    "        return self.walkingspeed\n",
    "    \n",
    "    def get_running_speed(self):\n",
    "        print(self._calculate_running_speed())\n",
    "    \n",
    "    def _calculate_running_speed(self):\n",
    "        return self.walkingspeed * 3\n",
    "\n",
    "m = Model()\n",
    "john = Child(\"John\", 23, m)\n",
    "mary = Child(\"Mary\", 21, m)\n",
    "\n",
    "john.get_running_speed()\n",
    "\n",
    "print(\"Speed of John: \" + str(john.walkingspeed))\n",
    "print(\"Speed of Mary: \" + str(mary.walkingspeed))\n",
    "\n",
    "Child.somethingsize = 42\n",
    "print(Child.somethingsize)\n",
    "\n",
    "mary.get_speed()"
   ]
  },
  {
   "cell_type": "code",
   "execution_count": null,
   "id": "6c844629-0278-4ff6-9b30-f65c8dd7e9e3",
   "metadata": {},
   "outputs": [],
   "source": [
    "getSize()"
   ]
  },
  {
   "cell_type": "markdown",
   "id": "286116ea-7886-46a4-82ae-0919674e4e24",
   "metadata": {
    "editable": true,
    "slideshow": {
     "slide_type": ""
    },
    "tags": []
   },
   "source": [
    "## Principles\n",
    "### Encapsulation\n",
    "\n",
    "Encapsulation is the practice of hiding information inside of a \"black box\" so that other developers working with the code don't have to worry about it (functions, methods). \n",
    "\n",
    "Next step: using private and public members\n",
    "\n",
    "### Abstraction\n",
    "\n",
    "The goal of abstraction is to handle complexity by hiding unnecessary details. \n",
    "\n",
    "* Abstraction is a technique that helps us identify what information and behavior should be encapsulated, and what should be exposed.\n",
    "* Encapsulation is the technique for organizing the code to encapsulate what should be hidden, and make visible what is intended to be visible.\n",
    "\n",
    "### Inheritance\n",
    "\n",
    "Inheritance allows one class (aka \"the child class\") to inherit the properties and methods of another class (aka \"the parent class\").\n",
    "\n",
    "You should only use inheritance when every instance of the child class can also be considered the same type as the parent class.\n",
    "\n",
    "<img src=\"./Sets.png\" alt= “Sets” width=\"500px\">\n",
    "\n",
    "<img src=\"./inheritance.png\" alt= “Inheritance” width=\"500px\">\n",
    "\n",
    "### Polymorphism\n",
    "\n",
    "Polymorphism is the ability of a variable, function, or object to take on multiple forms. For example, in a programming language that supports inheritance, classes in the same hierarchical tree may have methods with the same name but different behaviors."
   ]
  },
  {
   "cell_type": "code",
   "execution_count": null,
   "id": "c78aec7d-2b80-4b40-a3d5-3db386e6ac5a",
   "metadata": {},
   "outputs": [],
   "source": [
    "class Human(Agent):\n",
    "    def __init__(self,\n",
    "            name: str,\n",
    "            speed: int,\n",
    "            model,\n",
    "        ):\n",
    "        \n",
    "        super().__init__(model)\n",
    "        self.name: str = name\n",
    "        self.speed: int = speed\n",
    "    \n",
    "    def print_name(self):\n",
    "        print(self.name)\n",
    "        \n",
    "    def introduce(self):\n",
    "        print(\"I'm \" + self.name)\n",
    "        \n",
    "class Child(Human):\n",
    "    size = 10\n",
    "    def __init__(self,\n",
    "                name,\n",
    "                speed: int,\n",
    "                toy: str,\n",
    "                model,\n",
    "            ):\n",
    "        super().__init__(name, speed, model)\n",
    "        self.toy = toy\n",
    "        \n",
    "    def introduce(self):\n",
    "        print(f\"I'm {self.name} and I like {self.toy}\")\n",
    "        \n",
    "    def introduce_like_human(self):\n",
    "        super().introduce()\n",
    "        \n",
    "m = Model()\n",
    "john = Human(\"John\", 23, m)\n",
    "mary = Child(\"Mary\", 21, \"soccer\", m)\n",
    "\n",
    "john.introduce()\n",
    "mary.introduce()\n",
    "\n",
    "john.print_name()\n",
    "mary.print_name()"
   ]
  },
  {
   "cell_type": "code",
   "execution_count": null,
   "id": "435f83bb-8468-4f7c-8041-30c68d4e8fd0",
   "metadata": {},
   "outputs": [],
   "source": [
    "mary.introduce_like_human()"
   ]
  },
  {
   "cell_type": "code",
   "execution_count": null,
   "id": "ff06e642-86a3-4c70-ad3a-c8a74280731f",
   "metadata": {},
   "outputs": [],
   "source": [
    "type(mary)"
   ]
  },
  {
   "cell_type": "code",
   "execution_count": null,
   "id": "0fdea23b-abd2-4029-a6a2-62d7e76e0368",
   "metadata": {},
   "outputs": [],
   "source": [
    "type(john)"
   ]
  },
  {
   "cell_type": "markdown",
   "id": "17b3c938-b246-4952-8bef-e6a2b5ad62a3",
   "metadata": {},
   "source": [
    "### `__str__` function"
   ]
  },
  {
   "cell_type": "code",
   "execution_count": null,
   "id": "a81fb5fa-580c-48f2-8f6f-874fae6103e7",
   "metadata": {},
   "outputs": [],
   "source": [
    "print(mary)"
   ]
  },
  {
   "cell_type": "code",
   "execution_count": null,
   "id": "24e41da4-6c7e-4a36-9a7f-f5e4cec9f8f8",
   "metadata": {},
   "outputs": [],
   "source": [
    "class Child(Human):\n",
    "    size = 10\n",
    "    def __init__(self,\n",
    "                unique_id,\n",
    "                speed: int,\n",
    "                toy: str,\n",
    "                model,\n",
    "            ):\n",
    "        super().__init__(unique_id, speed, model)\n",
    "        self.toy = toy\n",
    "        \n",
    "    def introduce(self):\n",
    "        print(self.getIntroduction())\n",
    "        \n",
    "    def get_introduction(self):\n",
    "        return f\"I'm {self.name} and I like {self.toy}\"\n",
    "    \n",
    "    def __str__(self):\n",
    "        return self.get_introduction()\n",
    "    \n",
    "mary = Child(\"Mary\", 21, \"soccer\", m)\n",
    "print(mary)"
   ]
  },
  {
   "cell_type": "markdown",
   "id": "d5dcb5ca-b10d-4f97-9d4d-01139c90d636",
   "metadata": {},
   "source": [
    "\n",
    "\n",
    "## Further Resources\n",
    "\n",
    "* https://www.freecodecamp.org/news/crash-course-object-oriented-programming-in-python/\n",
    "* https://hifis.net/workshop-materials/python-oop/\n"
   ]
  }
 ],
 "metadata": {
  "kernelspec": {
   "display_name": "Python 3 (ipykernel)",
   "language": "python",
   "name": "python3"
  },
  "language_info": {
   "codemirror_mode": {
    "name": "ipython",
    "version": 3
   },
   "file_extension": ".py",
   "mimetype": "text/x-python",
   "name": "python",
   "nbconvert_exporter": "python",
   "pygments_lexer": "ipython3",
   "version": "3.12.3"
  }
 },
 "nbformat": 4,
 "nbformat_minor": 5
}
