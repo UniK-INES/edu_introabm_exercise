{
 "cells": [
  {
   "cell_type": "markdown",
   "id": "5dad91b6-7b78-4033-8014-1b5f05b2cb43",
   "metadata": {},
   "source": [
    "# Exercise 04"
   ]
  },
  {
   "cell_type": "markdown",
   "id": "b9173d91-79a6-421a-90b4-a1bc8e7a6ba7",
   "metadata": {
    "tags": []
   },
   "source": [
    "# Task 02: Extending the Evacuation Model: Introducing Facilitators #\n",
    "\n",
    "ABM allows the exploration of different kinds of entities / agent classes. We can define various agent classes with specific objectives, actions, and properties. One way to extend the evacuation model is the introduction of facilitator agents. These are more experienced and rarely panic. We will add facilitator agents and analyse their impact on evacuation time."
   ]
  },
  {
   "cell_type": "markdown",
   "id": "df47f1b1-cb2f-4ebd-9c16-65edfa5541df",
   "metadata": {
    "tags": []
   },
   "source": [
    "## 3.1 Implementation\n",
    "1. Add the new Facilitator class to `abmodel/agent.py`\n",
    "There are some comments as hints in the code where to place the new code. Also place the code junks (from `agent.py` / `from model.py`) here:"
   ]
  },
  {
   "cell_type": "code",
   "execution_count": null,
   "id": "31d99727-7702-4987-b800-5f964d8abe91",
   "metadata": {
    "tags": []
   },
   "outputs": [],
   "source": [
    "import sys\n",
    "sys.path.insert(0,'../../abmodel')\n",
    "\n",
    "from mesa.visualization import SolaraViz, make_space_component, make_plot_component\n",
    "from fire_evacuation.model import FireEvacuation\n",
    "from fire_evacuation.agent import Human, FireExit, Wall, Sight\n",
    "import os\n",
    "import solara"
   ]
  },
  {
   "cell_type": "code",
   "execution_count": null,
   "id": "614b1e42-7c92-4237-b9ff-86695899ae53",
   "metadata": {
    "tags": []
   },
   "outputs": [],
   "source": [
    "# place new code from agent.py here (for inspection)"
   ]
  },
  {
   "cell_type": "code",
   "execution_count": null,
   "id": "8c4ffca5-195c-4512-ae48-e24baab69e8d",
   "metadata": {
    "tags": []
   },
   "outputs": [],
   "source": [
    "# place new code from model.py here (for inspection)"
   ]
  },
  {
   "cell_type": "markdown",
   "id": "214b8fad-de8b-4b86-95f5-510da93b9bac",
   "metadata": {},
   "source": [
    " 3. Add a new model parameter `facilitators_percentage` as slider to `model_params`"
   ]
  },
  {
   "cell_type": "code",
   "execution_count": null,
   "id": "01f6ffc1-f1b1-4265-8988-ae156c41f0f9",
   "metadata": {
    "tags": []
   },
   "outputs": [],
   "source": [
    "current_dir = '../../abmodel'\n",
    "model_params = {\n",
    "    \"random_spawn\": {\n",
    "        \"type\": \"Checkbox\",\n",
    "        \"value\": True,\n",
    "        \"label\": \"Random spawn of initial positions\",\n",
    "    },\n",
    "    \"floor_size\": {\n",
    "        \"type\": \"SliderInt\",\n",
    "        \"value\": 12,\n",
    "        \"label\": \"Room size (edge)\",\n",
    "        \"min\": 5,\n",
    "        \"max\": 30,\n",
    "        \"step\": 1,\n",
    "    },\n",
    "    \"human_count\": {\n",
    "        \"type\": \"SliderInt\",\n",
    "        \"value\": 100,\n",
    "        \"label\": \"Number Of Human Agents\",\n",
    "        \"min\": 1,\n",
    "        \"max\": 300,\n",
    "        \"step\": 5,\n",
    "    },\n",
    "    \"max_speed\": {\n",
    "        \"type\": \"SliderInt\",\n",
    "        \"value\": 2,\n",
    "        \"label\": \"Maximum Speed of agents\",\n",
    "        \"min\": 1,\n",
    "        \"max\": 5,\n",
    "        \"step\": 1,\n",
    "    },\n",
    "    \"alarm_believers_prop\": {\n",
    "        \"type\": \"SliderFloat\",\n",
    "        \"value\": 1.0,\n",
    "        \"label\": \"Proportion of Alarm Believers\",\n",
    "        \"min\": 0.0,\n",
    "        \"max\": 1.0,\n",
    "        \"step\": 0.05,\n",
    "    },\n",
    "    \"cooperation_mean\": {\n",
    "        \"type\": \"SliderFloat\",\n",
    "        \"value\": 0.3,\n",
    "        \"label\": \"Mean Cooperation\",\n",
    "        \"min\": 0.0,\n",
    "        \"max\": 1.0,\n",
    "        \"step\": 0.01,\n",
    "    },\n",
    "    \"nervousness_mean\": {\n",
    "        \"type\": \"SliderFloat\",\n",
    "        \"value\": 0.3,\n",
    "        \"label\": \"Mean Nervousness\",\n",
    "        \"min\": 0.0,\n",
    "        \"max\": 1.0,\n",
    "        \"step\": 0.01,\n",
    "    },\n",
    "    \n",
    "    ## add slider for facilitators_percentage \n",
    "}"
   ]
  },
  {
   "cell_type": "markdown",
   "id": "3b72f4e5-4e27-40c8-878d-c148ce83ccb5",
   "metadata": {},
   "source": [
    " 4. Add a new facilitator icon"
   ]
  },
  {
   "cell_type": "code",
   "execution_count": null,
   "id": "96d626ce-7dd6-40ea-8e94-15f87887d504",
   "metadata": {
    "tags": []
   },
   "outputs": [],
   "source": [
    "def agent_portrayal(agent):\n",
    "    size = 10\n",
    "    \n",
    "    ## assign the new icon to 'shape' for facilitators\n",
    "    ## (consider facilitators are also Humans)\n",
    "     \n",
    "    if type(agent) is Human:\n",
    "        if agent.believes_alarm:\n",
    "            # believes in alarm\n",
    "            shape = os.path.join(current_dir, \n",
    "                                 \"fire_evacuation/resources/alarmbeliever.png\")\n",
    "        elif agent.nervousness > Human.NERVOUSNESS_PANIC_THRESHOLD:\n",
    "            shape = os.path.join(current_dir,\n",
    "                                 \"fire_evacuation/resources/panicked_human.png\")\n",
    "        elif agent.humantohelp is not None:\n",
    "            shape = os.path.join(current_dir,\n",
    "                                 \"fire_evacuation/resources/cooperating_human.png\")\n",
    "        else:\n",
    "            shape = os.path.join(current_dir,\n",
    "                                 \"fire_evacuation/resources/human.png\")\n",
    "    elif type(agent) is FireExit:\n",
    "        shape = os.path.join(current_dir,\n",
    "                             \"fire_evacuation/resources/fire_exit.png\")\n",
    "    elif type(agent) is Wall:\n",
    "        shape = os.path.join(current_dir,\n",
    "                             \"fire_evacuation/resources/wall.png\")\n",
    "    elif type(agent) is Sight:\n",
    "        shape = os.path.join(current_dir,\n",
    "                             \"fire_evacuation/resources/eye.png\")\n",
    "    else:\n",
    "        shape = \"X\"\n",
    "    return {\"size\": size,\n",
    "            \"marker\": shape,\n",
    "            \"color\": \"red\",\n",
    "            }"
   ]
  },
  {
   "cell_type": "markdown",
   "id": "695e2d98-7ada-46f6-976a-4bc384e7e0e4",
   "metadata": {},
   "source": [
    "## 3.3 Model Run\n",
    "Run the model in a console using instructions from the mesa tutorial."
   ]
  },
  {
   "cell_type": "code",
   "execution_count": null,
   "id": "97b49c3b-787f-4712-9386-86e6ca25205d",
   "metadata": {},
   "outputs": [],
   "source": [
    "model = solara.reactive(FireEvacuation(\n",
    "            floor_size = 14,\n",
    "            human_count = 100,\n",
    "            alarm_believers_prop = 1.0,\n",
    "            max_speed = 2,\n",
    "            seed = 3)\n",
    "        )"
   ]
  },
  {
   "cell_type": "code",
   "execution_count": null,
   "id": "6e04963d-1395-4cf7-bc48-8e2561da81c5",
   "metadata": {
    "tags": []
   },
   "outputs": [],
   "source": [
    "page = SolaraViz(\n",
    "    model,\n",
    "    model_params = model_params,\n",
    "    name=\"Evacuation Model\",\n",
    "    components=[make_space_component(agent_portrayal),\n",
    "                make_plot_component(\"AvgNervousness\"),\n",
    "                ],\n",
    ")\n",
    "\n",
    "page"
   ]
  },
  {
   "cell_type": "code",
   "execution_count": null,
   "id": "c962017c-999e-425a-8102-f260cd27ecdf",
   "metadata": {},
   "outputs": [],
   "source": []
  }
 ],
 "metadata": {
  "kernelspec": {
   "display_name": "Python 3 (ipykernel)",
   "language": "python",
   "name": "python3"
  },
  "language_info": {
   "codemirror_mode": {
    "name": "ipython",
    "version": 3
   },
   "file_extension": ".py",
   "mimetype": "text/x-python",
   "name": "python",
   "nbconvert_exporter": "python",
   "pygments_lexer": "ipython3",
   "version": "3.12.3"
  }
 },
 "nbformat": 4,
 "nbformat_minor": 5
}
